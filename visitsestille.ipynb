{
 "cells": [
  {
   "cell_type": "code",
   "execution_count": 7,
   "metadata": {},
   "outputs": [
    {
     "name": "stdout",
     "output_type": "stream",
     "text": [
      "Requirement already satisfied: requests in e:\\program files\\python\\lib\\site-packages (from -r requirements.txt (line 1)) (2.31.0)\n",
      "Requirement already satisfied: beautifulsoup4 in e:\\program files\\python\\lib\\site-packages (from -r requirements.txt (line 2)) (4.12.2)\n",
      "Requirement already satisfied: charset-normalizer<4,>=2 in e:\\program files\\python\\lib\\site-packages (from requests->-r requirements.txt (line 1)) (3.3.2)\n",
      "Requirement already satisfied: idna<4,>=2.5 in e:\\program files\\python\\lib\\site-packages (from requests->-r requirements.txt (line 1)) (3.6)\n",
      "Requirement already satisfied: urllib3<3,>=1.21.1 in e:\\program files\\python\\lib\\site-packages (from requests->-r requirements.txt (line 1)) (2.1.0)\n",
      "Requirement already satisfied: certifi>=2017.4.17 in e:\\program files\\python\\lib\\site-packages (from requests->-r requirements.txt (line 1)) (2023.11.17)\n",
      "Requirement already satisfied: soupsieve>1.2 in e:\\program files\\python\\lib\\site-packages (from beautifulsoup4->-r requirements.txt (line 2)) (2.5)\n"
     ]
    },
    {
     "name": "stderr",
     "output_type": "stream",
     "text": [
      "\n",
      "[notice] A new release of pip is available: 23.2.1 -> 23.3.2\n",
      "[notice] To update, run: python.exe -m pip install --upgrade pip\n"
     ]
    }
   ],
   "source": [
    "!pip install -r requirements.txt\n",
    "import requests\n",
    "import time\n",
    "from bs4 import BeautifulSoup\n",
    "import requests\n",
    "import csv"
   ]
  },
  {
   "cell_type": "code",
   "execution_count": 6,
   "metadata": {},
   "outputs": [
    {
     "name": "stdout",
     "output_type": "stream",
     "text": [
      "event summary: 341\n",
      "['https://visitseattle.org/events/dead-bars/', 'https://visitseattle.org/events/emotional-a-night-for-the-heartbroken/', 'https://visitseattle.org/events/loonieboys/', 'https://visitseattle.org/events/corteo/', 'https://visitseattle.org/events/bewitcher/', 'https://visitseattle.org/events/burn-burn-burn/', 'https://visitseattle.org/events/carly-ann-calbero/', 'https://visitseattle.org/events/el-primer-instinto/', 'https://visitseattle.org/events/gary-janetti/', 'https://visitseattle.org/events/jammah/', 'https://visitseattle.org/events/saturday-family-concert-the-harmonica-pocket/', 'https://visitseattle.org/events/seattle-thunderbirds-vs-tri-city-americans-2/', 'https://visitseattle.org/events/hokusai-inspiration-and-influence-from-the-collection-of-the-museum-of-fine-arts-boston/', 'https://visitseattle.org/events/an-evening-with-chris-botti/', 'https://visitseattle.org/events/blueys-big-play/', 'https://visitseattle.org/events/mike-birbiglia-please-stop-the-ride/', 'https://visitseattle.org/events/austin-plaine/', 'https://visitseattle.org/events/seattle-kraken-vs-toronto-maple-leafs/', 'https://visitseattle.org/events/kate-alice-marshall/', 'https://visitseattle.org/events/machine-head/', 'https://visitseattle.org/events/silent-movie-mondays-safety-last/', 'https://visitseattle.org/events/life-on-thin-ice-national-geographic-live/', 'https://visitseattle.org/events/buck-meek/', 'https://visitseattle.org/events/curator-tour-joseph-a-witt-winter-garden/', 'https://visitseattle.org/events/synthwave-dj-dance-party/', 'https://visitseattle.org/events/wiley-from-atlanta/', 'https://visitseattle.org/events/winter-reverb/', 'https://visitseattle.org/events/tribute-to-john-williams/', 'https://visitseattle.org/events/lakecia-benjamin-and-phoenix/', 'https://visitseattle.org/events/corey-harper/', 'https://visitseattle.org/events/dj-shadow/', 'https://visitseattle.org/events/opera-on-tap/', 'https://visitseattle.org/events/pbs-peter-band-supreme/', 'https://visitseattle.org/events/seattle-kraken-vs-chicago-blackhawks-2/', 'https://visitseattle.org/events/silent-planet/', 'https://visitseattle.org/events/stuff-you-should-know/', 'https://visitseattle.org/events/the-cooking-gene/', 'https://visitseattle.org/events/aryana-leon/', 'https://visitseattle.org/events/colorworks/', 'https://visitseattle.org/events/dar-williams/', 'https://visitseattle.org/events/deb-perelman/', 'https://visitseattle.org/events/emanuel-brown/', 'https://visitseattle.org/events/james-miles/', 'https://visitseattle.org/events/madeline-pendleton/', 'https://visitseattle.org/events/october-london/', 'https://visitseattle.org/events/tacoma-stars-vs-empire-strykers/', 'https://visitseattle.org/events/dungeons-and-drag-queens/', 'https://visitseattle.org/events/global-rhythms-yungchen-lhamo/', 'https://visitseattle.org/events/harlem-globetrotters-2024-world-tour/', 'https://visitseattle.org/events/seattle-kraken-vs-st-louis-blues/', 'https://visitseattle.org/events/shelf-nunny/', 'https://visitseattle.org/events/super-diamond-the-neil-diamond-tribute-band/', 'https://visitseattle.org/events/the-disorderlies-2/', 'https://visitseattle.org/events/compania-nacional-de-danza/', 'https://visitseattle.org/events/metropolis/', 'https://visitseattle.org/events/andy-coe-band/', 'https://visitseattle.org/events/harlem-globetrotters/', 'https://visitseattle.org/events/seattle-thunderbirds-vs-everett-silvertips-2/', 'https://visitseattle.org/events/the-budos-band/', 'https://visitseattle.org/events/the-human-family/', 'https://visitseattle.org/events/steinunn-porarinsdottir-wayfinders/', 'https://visitseattle.org/events/hanako-oleary-izanami/', 'https://visitseattle.org/events/gage-alumni-show/', 'https://visitseattle.org/events/bohemia/', 'https://visitseattle.org/events/lee-ritenour-and-dave-grusin/', 'https://visitseattle.org/events/celebrate-asia/', 'https://visitseattle.org/events/family-day-with-birds-connect-seattle/', 'https://visitseattle.org/events/seattle-kraken-vs-columbus-blue-jackets/', 'https://visitseattle.org/events/tacoma-stars-vs-san-diego-sockers-3/', 'https://visitseattle.org/events/adira-sharkey/', 'https://visitseattle.org/events/car-the-garden/', 'https://visitseattle.org/events/cheryl-wheeler/', 'https://visitseattle.org/events/giantish/', 'https://visitseattle.org/events/seattle-thunderbirds-vs-prince-george-cougars-2/', 'https://visitseattle.org/events/a-political-rocks/', 'https://visitseattle.org/events/sophia-al-maria/', 'https://visitseattle.org/events/jahari-stampley/', 'https://visitseattle.org/events/fraktured-home-of-the-broken-beat/', 'https://visitseattle.org/events/g3-25th-anniversary-reunion/', 'https://visitseattle.org/events/jp-saxe/', 'https://visitseattle.org/events/los-lobos/', 'https://visitseattle.org/events/babytron/', 'https://visitseattle.org/events/catalyzing-change-with-akuyea-karen-vargas/', 'https://visitseattle.org/events/jamila-woods/', 'https://visitseattle.org/events/jazz-is-dead-blue-note-85/', 'https://visitseattle.org/events/michelle-cann/', 'https://visitseattle.org/events/pakt/', 'https://visitseattle.org/events/erik-walters/', 'https://visitseattle.org/events/memoir/', 'https://visitseattle.org/events/nora-en-pure/', 'https://visitseattle.org/events/poolside/', 'https://visitseattle.org/events/tacoma-stars-vs-monterrey-flash/', 'https://visitseattle.org/events/jaha-koo-the-history-of-korean-western-theatre/', 'https://visitseattle.org/events/the-winds-medley-of-emotions/', 'https://visitseattle.org/events/all-will-suffer/', 'https://visitseattle.org/events/cold-war-kids-20-years-tour/', 'https://visitseattle.org/events/mau-p/', 'https://visitseattle.org/events/randy-rainbow-for-president/', 'https://visitseattle.org/events/the-delta-bombers/', 'https://visitseattle.org/events/seattle-chamber-music-winter-festival/', 'https://visitseattle.org/events/beethoven-emperor-concerto/', 'https://visitseattle.org/events/sergio-mendes/', 'https://visitseattle.org/events/daniel-tigers-neighborhood/', 'https://visitseattle.org/events/lil-skies/', 'https://visitseattle.org/events/criminal/', 'https://visitseattle.org/events/neck-deep/', 'https://visitseattle.org/events/kazu-kibuishi-with-donna-barba-higuera/', 'https://visitseattle.org/events/night-lovell/', 'https://visitseattle.org/events/soja/', 'https://visitseattle.org/events/kenny-barron-trio/', 'https://visitseattle.org/events/tamara-payne-the-life-and-legacy-of-malcolm-x/', 'https://visitseattle.org/events/the-kills/', 'https://visitseattle.org/events/an-evening-with-tina-campt-black-feminist-visual-culture/', 'https://visitseattle.org/events/art-and-transformation/', 'https://visitseattle.org/events/eric-bellinger/', 'https://visitseattle.org/events/futurebirds-and-nude-party/', 'https://visitseattle.org/events/ilana-glazer-live/', 'https://visitseattle.org/events/mister-blank/', 'https://visitseattle.org/events/the-thorn/', 'https://visitseattle.org/events/barry-cant-swim/', 'https://visitseattle.org/events/dark-star-orchestra/', 'https://visitseattle.org/events/govt-mule/', 'https://visitseattle.org/events/mayer-hawthorne/', 'https://visitseattle.org/events/moontricks/', 'https://visitseattle.org/events/oboe-oboe/', 'https://visitseattle.org/events/seattle-boat-show/', 'https://visitseattle.org/events/randall-goosby-plays-mozart/', 'https://visitseattle.org/events/art-by-design/', 'https://visitseattle.org/events/brazilian-carnaval-2024/', 'https://visitseattle.org/events/chase-rice/', 'https://visitseattle.org/events/joe-mr-d-dombrowski/', 'https://visitseattle.org/events/jvna/', 'https://visitseattle.org/events/the-temptations-the-four-tops/', 'https://visitseattle.org/events/quixote-nuevo/', 'https://visitseattle.org/events/kent-stowells-swan-lake/', 'https://visitseattle.org/events/blood-sweat-and-tears/', 'https://visitseattle.org/events/love-at-the-zoo/', 'https://visitseattle.org/events/scott-bradlees-postmodern-jukebox/', 'https://visitseattle.org/events/tourist-and-amtrac/', 'https://visitseattle.org/events/eliades-ochoa/', 'https://visitseattle.org/events/k-wayne-yang/', 'https://visitseattle.org/events/maddie-zahm/', 'https://visitseattle.org/events/cory-wong-winter-2024-tour/', 'https://visitseattle.org/events/circahumans-2-0/', 'https://visitseattle.org/events/jon-batiste/', 'https://visitseattle.org/events/tobymac-hits-deep-2024/', 'https://visitseattle.org/events/a-case-for-the-existence-of-god/', 'https://visitseattle.org/events/northwest-flower-garden-festival/', 'https://visitseattle.org/events/the-princess-bride-in-concert-with-the-seattle-symphony/', 'https://visitseattle.org/events/mindi-abair-wine-and-jazz-tour-2024/', 'https://visitseattle.org/events/madonna/', 'https://visitseattle.org/events/meet-the-author-maggie-taft-the-chieftain-and-the-chair/', 'https://visitseattle.org/events/seattle-kraken-vs-detroit-red-wings/', 'https://visitseattle.org/events/from-mozart-to-matthews/', 'https://visitseattle.org/events/lukas-nelson/', 'https://visitseattle.org/events/mahogany-smartfilms-black-luxury/', 'https://visitseattle.org/events/wu-han-philip-setzer-david-finckel/', 'https://visitseattle.org/events/the-cookers/', 'https://visitseattle.org/events/side-by-side-with-seattle-youth-symphony-orchestra/', 'https://visitseattle.org/events/seattle-kraken-vs-vancouver-canucks/', 'https://visitseattle.org/events/funky-friday-with-f2d/', 'https://visitseattle.org/events/blackstar-symphony-the-music-of-david-bowie/', 'https://visitseattle.org/events/opera-talk-the-making-of-x/', 'https://visitseattle.org/events/wreckno/', 'https://visitseattle.org/events/kelly-akashi/', 'https://visitseattle.org/events/the-lower-depths/', 'https://visitseattle.org/events/dan-brown-wild-symphony/', 'https://visitseattle.org/events/pink-sweat/', 'https://visitseattle.org/events/seattle-kraken-vs-minnesota-wild-2/', 'https://visitseattle.org/events/small-island-big-song/', 'https://visitseattle.org/events/born-with-teeth/', 'https://visitseattle.org/events/once-more-just-for-you/', 'https://visitseattle.org/events/wintergrass-music-festival/', 'https://visitseattle.org/events/seattle-kraken-vs-boston-bruins/', 'https://visitseattle.org/events/hunt-for-sleeping-giants-national-geographic-live/', 'https://visitseattle.org/events/playboi-carti/', 'https://visitseattle.org/events/winter-brilliance/', 'https://visitseattle.org/events/seattle-museum-month/', 'https://visitseattle.org/events/seattle-kraken-vs-pittsburgh-penguins/', 'https://visitseattle.org/events/the-human-family-2/', 'https://visitseattle.org/events/fall-out-boy/', 'https://visitseattle.org/events/tacoma-stars-vs-harrisburg-heat/', 'https://visitseattle.org/events/conrad-taos-playlist/', 'https://visitseattle.org/events/seattle-kraken-vs-edmonton-oilers/', 'https://visitseattle.org/events/emerald-city-comic-con/', 'https://visitseattle.org/events/tacoma-stars-vs-harrisburg-heat-2/', 'https://visitseattle.org/events/calidore-quartet-abeo-quartet/', 'https://visitseattle.org/events/holding-movement/', 'https://visitseattle.org/events/seattle-kraken-vs-winnipeg-jets/', 'https://visitseattle.org/events/xthe-life-and-times-of-malcolm-x/', 'https://visitseattle.org/events/bach-st-john-passion/', 'https://visitseattle.org/events/helene-grimaud/', 'https://visitseattle.org/events/positive-fragmentation/', 'https://visitseattle.org/events/antonio-m-gomez-lineajes/', 'https://visitseattle.org/events/soren-solkaer-sort-sol/', 'https://visitseattle.org/events/luchadora/', 'https://visitseattle.org/events/wild-cats-revealed-national-geographic-live/', 'https://visitseattle.org/events/seattle-kraken-vs-vegas-golden-knights/', 'https://visitseattle.org/events/seattle-kraken-vs-washington-capitals/', 'https://visitseattle.org/events/mark-morris-dance-group-the-look-of-love/', 'https://visitseattle.org/events/sibelius-nielsen/', 'https://visitseattle.org/events/tacoma-stars-vs-chihuahua-savage/', 'https://visitseattle.org/events/seattle-kraken-vs-nashville-predators/', 'https://visitseattle.org/events/native-portraiture-power-and-perception/', 'https://visitseattle.org/events/places-to-call-home-settlements-in-the-west/', 'https://visitseattle.org/events/nobody-lives-here/', 'https://visitseattle.org/events/rootabaga-country/', 'https://visitseattle.org/events/seattle-kraken-vs-buffalo-sabres/', 'https://visitseattle.org/events/tacoma-stars-vs-empire-strykers-2/', 'https://visitseattle.org/events/somethings-afoot/', 'https://visitseattle.org/events/one-thousand-pieces/', 'https://visitseattle.org/events/simon-trpceski-plays-tchaikovsky/', 'https://visitseattle.org/events/seattle-kraken-vs-montreal-canadiens/', 'https://visitseattle.org/events/seattle-kraken-vs-anaheim-ducks/', 'https://visitseattle.org/events/seattle-kraken-vs-anaheim-ducks-2/', 'https://visitseattle.org/events/tim-mcgraw/', 'https://visitseattle.org/events/harold-and-the-purple-crayon/', 'https://visitseattle.org/events/seattle-kraken-vs-dallas-stars/', 'https://visitseattle.org/events/illuminate-glass-art-for-early-learners/', 'https://visitseattle.org/events/al-youngs-1970-dodge-challenger-drag-racer/', 'https://visitseattle.org/events/sanctuary-city/', 'https://visitseattle.org/events/stew/', 'https://visitseattle.org/events/luis-miguel/', 'https://visitseattle.org/events/taylor-raven-and-duke-kim-in-recital/', 'https://visitseattle.org/events/copland-appalachian-spring/', 'https://visitseattle.org/events/la-vaughn-belle-a-history-of-unruly-returns/', 'https://visitseattle.org/events/beetlejuice/', 'https://visitseattle.org/events/seattle-kraken-vs-arizona-coyotes/', 'https://visitseattle.org/events/seattle-kraken-vs-san-jose-sharks/', 'https://visitseattle.org/events/the-percussion-sounds-from-home/', 'https://visitseattle.org/events/honoring-50-years-of-papunya-tula-painting/', 'https://visitseattle.org/events/the-moors/', 'https://visitseattle.org/events/mahler-symphony-no-3/', 'https://visitseattle.org/events/best-of-the-northwest-spring-show/', 'https://visitseattle.org/events/an-evening-with-jinjoo-cho/', 'https://visitseattle.org/events/dvorak-symphony-no-6/', 'https://visitseattle.org/events/the-seasons-canon/', 'https://visitseattle.org/events/drum-tao-30th-anniversary/', 'https://visitseattle.org/events/disneys-aladdin/', 'https://visitseattle.org/events/antarctic-symphony/', 'https://visitseattle.org/events/shine-on-seattle/', 'https://visitseattle.org/events/noah-gellers-playlist/', 'https://visitseattle.org/events/broadway-spectacular/', 'https://visitseattle.org/events/jessica-jackson-hutchins-wrecked-and-righteous/', 'https://visitseattle.org/events/the-lion-tells-his-tale/', 'https://visitseattle.org/events/guma-gela-part-land-part-sea-all-ancestry/', 'https://visitseattle.org/events/fat-ham/', 'https://visitseattle.org/events/a-tale-of-peter-rabbit/', 'https://visitseattle.org/events/the-lehman-trilogy/', 'https://visitseattle.org/events/the-untold-story-of-sharks-national-geographic-live/', 'https://visitseattle.org/events/mother/', 'https://visitseattle.org/events/barber-violin-concerto/', 'https://visitseattle.org/events/the-barber-of-seville/', 'https://visitseattle.org/events/unriveled/', 'https://visitseattle.org/events/george-balenchines-coppelia/', 'https://visitseattle.org/events/jan-lisiecki-plays-prokofiev/', 'https://visitseattle.org/events/beethoven-symphony-no-5/', 'https://visitseattle.org/events/elizabeth-malaska-all-be-your-mirror/', 'https://visitseattle.org/events/joshua-bell-plays-elements-concerto/', 'https://visitseattle.org/events/together-again-again/', 'https://visitseattle.org/events/lip-sync-for-our-rights/', 'https://visitseattle.org/events/company/', 'https://visitseattle.org/events/2024-university-of-washington-mfa-mdes-thesis-exhibition/', 'https://visitseattle.org/events/spring-awakening/', 'https://visitseattle.org/events/girl-from-the-north-country/', 'https://visitseattle.org/events/nordic-utopia-african-americans-in-the-20th-century/', 'https://visitseattle.org/events/clue/', 'https://visitseattle.org/events/be-water-my-friend-the-teachings-of-bruce-lee/', 'https://visitseattle.org/events/olivia-rodrigo/', 'https://visitseattle.org/events/hidden-worlds-the-films-of-laika/', 'https://visitseattle.org/events/sound-check-the-music-we-make/', 'https://visitseattle.org/events/raul-de-nieves/', 'https://visitseattle.org/events/frye-salon/', 'https://visitseattle.org/events/on-native-land-landscapes-from-the-haub-family-collection/', 'https://visitseattle.org/events/washi-transformed-new-expressions-in-japanese-paper/', 'https://visitseattle.org/events/explore-the-market/', 'https://visitseattle.org/events/olympic-sculpture-park/', 'https://visitseattle.org/events/infinite-worlds-of-science-fiction/', 'https://visitseattle.org/events/wild-blue-angel-hendrix-abroad-1966-70/', 'https://visitseattle.org/events/john-grade-middle-fork/', 'https://visitseattle.org/events/scared-to-death-the-thrill-of-horror-film/', 'https://visitseattle.org/events/nirvana-taking-punk-to-the-masses/', 'https://visitseattle.org/events/vietnam-divided-war-above-southeast-asia/', 'https://visitseattle.org/events/science-fiction-and-fantasy-hall-of-fame/', 'https://visitseattle.org/events/cambodian-cultural-museum-and-killing-fields-memorial/', 'https://visitseattle.org/events/honoring-our-journey/', 'https://visitseattle.org/events/spotlight-on-dale-chihuly-works-from-museum-of-glass-permanent-collection/', 'https://visitseattle.org/events/great-hall-of-washington-history/', 'https://visitseattle.org/events/humboldt-penguin-exhibit/', 'https://visitseattle.org/events/giant-pacific-octopus/', 'https://visitseattle.org/events/meet-our-marine-mammals/', 'https://visitseattle.org/events/window-on-washington-waters/', 'https://visitseattle.org/events/guitar-gallery/', 'https://visitseattle.org/events/nordic-journeys/', 'https://visitseattle.org/events/bairds-beaked-whale/', 'https://visitseattle.org/events/amazing-life/', 'https://visitseattle.org/events/culture-is-living/', 'https://visitseattle.org/events/fossils-uncovered/', 'https://visitseattle.org/events/northwest-native-art/', 'https://visitseattle.org/events/our-material-world/', 'https://visitseattle.org/events/apollo/', 'https://visitseattle.org/events/art-and-life-along-the-northwest-coast/', 'https://visitseattle.org/events/washington-my-home/', 'https://visitseattle.org/events/sensory-friendly-programs/', 'https://visitseattle.org/events/dale-chihuly-at-tacoma-art-museum/', 'https://visitseattle.org/events/be-longing-contemporary-asian-art/', 'https://visitseattle.org/events/porcelain-room/', 'https://visitseattle.org/events/life-on-the-edge/', 'https://visitseattle.org/events/tropical-pacific/', 'https://visitseattle.org/events/underwater-dome/', 'https://visitseattle.org/events/meet-the-animals/', 'https://visitseattle.org/events/chihuly-garden-and-glass/', 'https://visitseattle.org/events/discover-ancient-coast-salish-culture/', 'https://visitseattle.org/events/savor-seattle-signature-tour-pike-place-market/', 'https://visitseattle.org/events/untold-stories-world-war-ii-at-75/', 'https://visitseattle.org/events/bezos-center-for-innovation/', 'https://visitseattle.org/events/maritime-seattle/', 'https://visitseattle.org/events/true-northwest-the-seattle-journey/', 'https://visitseattle.org/events/metaphor-into-form-art-in-the-era-of-the-pilchuck-glass-school/', 'https://visitseattle.org/events/winter-in-the-west/', 'https://visitseattle.org/events/ballard-farmers-market-sunday/', 'https://visitseattle.org/events/capitol-hill-farmers-market-sunday/', 'https://visitseattle.org/events/university-district-farmers-market/', 'https://visitseattle.org/events/fremont-sunday-market/', 'https://visitseattle.org/events/chihuly-garden-and-glass-gallery-talks-tours/', 'https://visitseattle.org/events/boundless-stories-of-asian-art/', 'https://visitseattle.org/events/kenzan-tsutakawa-chinn-gather/', 'https://visitseattle.org/events/art-walk-edmonds-every-third-thursday/', 'https://visitseattle.org/events/rise-up-stonewall-and-the-lgbtq-rights-movement/', 'https://visitseattle.org/events/show-me-seattle-tours/', 'https://visitseattle.org/events/lemay-americas-car-museum/', 'https://visitseattle.org/events/history-link-tours/', 'https://visitseattle.org/events/west-seattle-farmers-market-sundays/', 'https://visitseattle.org/events/remembrance-the-legacy-of-executive-order-9066-in-washington-state/', 'https://visitseattle.org/events/pioneer-square-first-thursday-art-walk/', 'https://visitseattle.org/events/deities-and-demons-supernatural-in-japanese-art/', 'https://visitseattle.org/events/american-art-the-stories-we-carry/', 'https://visitseattle.org/events/pacific-species/', 'https://visitseattle.org/events/reverberations-contemporary-art-and-modern-classics/', 'https://visitseattle.org/events/75-years-of-porsche/', 'https://visitseattle.org/events/manazma-sheen/']\n"
     ]
    }
   ],
   "source": [
    "base_url = 'https://visitseattle.org/events/page/{}'\n",
    "all_events = []\n",
    "\n",
    "for page_number in range(1, 39):  # Iterate over pages 1 to 38\n",
    "    url = base_url.format(page_number)\n",
    "    res = requests.get(url)\n",
    "    \n",
    "    if res.status_code == 200:\n",
    "        soup = BeautifulSoup(res.text, 'html.parser')\n",
    "        selector = \"div.search-result-preview > div > h3 > a\"\n",
    "        a_eles = soup.select(selector)\n",
    "        \n",
    "        # Extract href attributes from the anchor elements and append to the list\n",
    "        all_events.extend([x['href'] for x in a_eles])\n",
    "\n",
    "# Print the list of event URLs\n",
    "print(\"event summary:\", len(all_events))\n",
    "print(all_events)"
   ]
  },
  {
   "cell_type": "code",
   "execution_count": 7,
   "metadata": {},
   "outputs": [],
   "source": [
    "def extract_event_details(detail_url):\n",
    "    detail_res = requests.get(detail_url)\n",
    "\n",
    "    if detail_res.status_code == 200:\n",
    "        detail_soup = BeautifulSoup(detail_res.text, 'html.parser')\n",
    "        # Extracting details (modify selectors as needed)\n",
    "        name = detail_soup.select_one('div.medium-6.columns.event-top > h1').text.strip()\n",
    "        date_time = detail_soup.select_one('div.medium-6.columns.event-top > h4 > span:nth-child(1)').text.strip()\n",
    "        location = detail_soup.select_one('div.medium-6.columns.event-top > h4 > span:nth-child(2)').text.strip()\n",
    "        event_type = detail_soup.select_one('div.medium-6.columns.event-top > a:nth-child(3)').text.strip()\n",
    "        region = detail_soup.select_one('div.medium-6.columns.event-top > a:nth-child(4)').text.strip()\n",
    "        \n",
    "        return [name, date_time, location, event_type, region]\n",
    "    else:\n",
    "        return None"
   ]
  },
  {
   "cell_type": "code",
   "execution_count": 13,
   "metadata": {},
   "outputs": [
    {
     "name": "stdout",
     "output_type": "stream",
     "text": [
      "[['Dead Bars', '1/19/2024', \"Slim's Last Chance\", 'Music', 'South Seattle'], ['Emotional: A Night For The Heartbroken', '1/19/2024', 'Chop Suey', 'Music', 'Capitol Hill / Central District'], ['Loonieboys', '1/19/2024', 'Funhouse', 'Music', 'Capitol Hill / Central District'], ['Corteo', 'Now through 1/20/2024', 'Climate Pledge Arena', 'Theatre', 'Queen Anne / Seattle Center'], ['Bewitcher', '1/20/2024', 'Funhouse', 'Music', 'Capitol Hill / Central District'], ['burn burn burn', '1/20/2024', \"Slim's Last Chance\", 'Music', 'South Seattle'], ['Carly Ann Calbero', '1/20/2024', 'The Royal Room', 'Music', 'South Seattle'], ['El Primer Instinto', '1/20/2024', 'El Corazon', 'Music', 'Downtown'], ['Gary Janetti', '1/20/2024', 'The Neptune Theatre', 'Theatre', 'University District'], ['Jammah', '1/20/2024', 'Sea Monster Lounge', 'Music', 'Wallingford / Greenlake'], ['Saturday Family Concert: The Harmonica Pocket', '1/20/2024', 'Town Hall Seattle', 'Music', 'Downtown'], ['Seattle Thunderbirds vs. Tri-City Americans', '1/20/2024', 'accesso ShoWare Center', 'Sports', 'South'], ['Hokusai: Inspiration and Influence, from The Collection of The Museum of Fine Arts, Boston', 'Now through 1/21/2024', 'Seattle Art Museum', 'Museums', 'Downtown'], ['An Evening with Chris Botti', 'Now through 1/21/2024', \"Dimitriou's Jazz Alley\", 'Music', 'Downtown'], ['Bluey’s Big Play', '1/20/2024 through 1/21/2024', 'The Paramount Theatre', 'Theatre', 'Downtown'], ['Mike Birbiglia: Please Stop the Ride', '1/20/2024 through 1/21/2024', 'The Moore Theatre', 'Theatre', 'Downtown'], ['Austin Plaine', '1/21/2024', 'Funhouse', 'Music', 'Capitol Hill / Central District'], ['Seattle Kraken vs. Toronto Maple Leafs', '1/21/2024', 'Climate Pledge Arena', 'Sports', 'Queen Anne / Seattle Center'], ['Kate Alice Marshall', '1/22/2024', 'Elliott Bay Book Company', 'Readings & Lectures', 'Capitol Hill / Central District'], ['Machine Head', '1/22/2024', 'The Showbox', 'Music', 'Downtown'], ['Silent Movie Mondays – Safety Last', '1/22/2024', 'The Paramount Theatre', 'Film & Media Arts', 'Downtown'], ['Life on Thin Ice | National Geographic Live', '1/22/2024 through 1/23/2024', 'Benaroya Hall', 'Readings & Lectures', 'Downtown'], ['Buck Meek', '1/23/2024', 'The Crocodile', 'Music', 'Downtown'], ['Curator Tour: Joseph A. Witt Winter Garden', '1/23/2024', 'Washington Park Arboretum', 'Tours & Attractions', 'University District'], ['Synthwave DJ Dance Party', '1/23/2024', 'High Dive', 'Music', 'Fremont / Ballard'], ['Wiley from Atlanta', '1/23/2024', 'Funhouse', 'Music', 'Capitol Hill / Central District'], ['Winter Reverb', '1/23/2024', 'Chop Suey', 'Music', 'Capitol Hill / Central District'], ['Tribute to John Williams', 'Now through 1/24/2024', 'Benaroya Hall', 'Music', 'Downtown'], ['Lakecia Benjamin and Phoenix', '1/23/2024 through 1/24/2024', \"Dimitriou's Jazz Alley\", 'Music', 'Downtown'], ['Corey Harper', '1/24/2024', 'Barboza', 'Music', 'Capitol Hill / Central District'], ['DJ Shadow', '1/24/2024', 'The Neptune Theatre', 'Music', 'University District'], ['Opera on Tap', '1/24/2024', 'The Royal Room', 'Music', 'South Seattle'], ['PBS – Peter Band Supreme', '1/24/2024', 'Sea Monster Lounge', 'Music', 'Wallingford / Greenlake'], ['Seattle Kraken vs. Chicago Blackhawks', '1/24/2024', 'Climate Pledge Arena', 'Sports', 'Queen Anne / Seattle Center'], ['Silent Planet', '1/24/2024', 'El Corazon', 'Music', 'Downtown'], ['Stuff You Should Know', '1/24/2024', 'The Paramount Theatre', 'Theatre', 'Downtown'], ['The Cooking Gene', '1/24/2024', 'Town Hall Seattle', 'Readings & Lectures', 'Downtown'], ['Aryana Leon', '1/25/2024', 'Barboza', 'Music', 'Capitol Hill / Central District'], ['Colorworks', '1/25/2024', 'Nectar Lounge', 'Music', 'Fremont / Ballard'], ['Dar Williams', '1/25/2024', 'The Neptune Theatre', 'Music', 'University District'], ['Deb Perelman', '1/25/2024', 'Town Hall Seattle', 'Readings & Lectures', 'Downtown'], ['Emanuel Brown', '1/25/2024', 'Chop Suey', 'Music', 'Capitol Hill / Central District'], ['James Miles', '1/25/2024', 'Town Hall Seattle', 'Readings & Lectures', 'Downtown'], ['Madeline Pendleton', '1/25/2024', 'Elliott Bay Book Company', 'Readings & Lectures', 'Capitol Hill / Central District'], ['October London', '1/25/2024', 'The Showbox', 'Music', 'Downtown'], ['Tacoma Stars vs. Empire Strykers', '1/25/2024', 'accesso ShoWare Center', 'Sports', 'South'], ['Dungeons and Drag Queens', '1/26/2024', 'The Crocodile', 'Theatre', 'Downtown'], ['Global Rhythms: Yungchen Lhamo', '1/26/2024', 'Town Hall Seattle', 'Music', 'Downtown'], ['Harlem Globetrotters 2024 World Tour –', '1/26/2024', 'accesso ShoWare Center', 'Sports', 'South'], ['Seattle Kraken vs. St. Louis Blues', '1/26/2024', 'Climate Pledge Arena', 'Sports', 'Queen Anne / Seattle Center'], ['Shelf Nunny', '1/26/2024', 'Barboza', 'Music', 'Capitol Hill / Central District'], ['Super Diamond – The Neil Diamond Tribute Band', '1/26/2024', 'The Showbox', 'Music', 'Downtown'], ['The Disorderlies', '1/26/2024', \"Slim's Last Chance\", 'Music', 'South Seattle'], ['Compania Nacional de Danza', '1/25/2024 through 1/27/2024', 'Meany Center for the Performing Arts', 'Dance', 'University District'], ['Metropolis', '1/25/2024 through 1/27/2024', 'Benaroya Hall', 'Music', 'Downtown'], ['Andy Coe Band', '1/26/2024 through 1/27/2024', 'Nectar Lounge', 'Music', 'Fremont / Ballard'], ['Harlem Globetrotters', '1/27/2024', 'Climate Pledge Arena', 'Sports', 'Queen Anne / Seattle Center'], ['Seattle Thunderbirds vs. Everett Silvertips', '1/27/2024', 'accesso ShoWare Center', 'Sports', 'South'], ['The Budos Band', '1/27/2024', 'The Showbox', 'Music', 'Downtown'], ['The Human Family', '1/27/2024', 'Opera Center', 'Music', 'Queen Anne / Seattle Center'], ['Steinunn Porarinsdottir: Wayfinders', 'Now through 1/28/2024', 'National Nordic Museum', 'Museums', 'Fremont / Ballard'], ['Hanako O’Leary: Izanami', 'Now through 1/28/2024', 'Frye Art Museum', 'Museums', 'Capitol Hill / Central District'], ['Gage Alumni Show', 'Now through 1/28/2024', 'Fountainhead Gallery', 'Visual Arts & Galleries', 'Queen Anne / Seattle Center'], ['Bohemia', 'Now through 1/28/2024', 'The Triple Door', 'Theatre', 'Downtown'], ['Lee Ritenour and Dave Grusin', '1/25/2024 through 1/28/2024', \"Dimitriou's Jazz Alley\", 'Music', 'Downtown'], ['Celebrate Asia', '1/28/2024', 'Benaroya Hall', 'Music', 'Downtown'], ['Family Day with Birds Connect Seattle', '1/28/2024', 'National Nordic Museum', 'Museums', 'Fremont / Ballard'], ['Seattle Kraken vs. Columbus Blue Jackets', '1/28/2024', 'Climate Pledge Arena', 'Sports', 'Queen Anne / Seattle Center'], ['Tacoma Stars vs. San Diego Sockers', '1/28/2024', 'accesso ShoWare Center', 'Sports', 'South'], ['Adira Sharkey', '1/29/2024', 'Tractor Tavern', 'Music', 'Fremont / Ballard'], ['Car, The Garden', '1/29/2024', 'The Crocodile', 'Music', 'Downtown'], ['Cheryl Wheeler', '1/30/2024', 'The Triple Door', 'Music', 'Downtown'], ['Giantish', '1/30/2024', 'High Dive', 'Music', 'Fremont / Ballard'], ['Seattle Thunderbirds vs. Prince George Cougars', '1/30/2024', 'accesso ShoWare Center', 'Sports', 'South'], ['A/political Rocks', 'Now through 1/31/2024', 'Henry Art Gallery', 'Museums', 'University District'], ['Sophia Al-Maria', 'Now through 1/31/2024', 'Henry Art Gallery', 'Museums', 'University District'], ['Jahari Stampley', '1/30/2024 through 1/31/2024', \"Dimitriou's Jazz Alley\", 'Music', 'Downtown'], ['FRAKTURED: Home of the Broken Beat', '1/31/2024', 'High Dive', 'Music', 'Fremont / Ballard'], ['G3- 25th Anniversary reunion', '1/31/2024', 'The Moore Theatre', 'Music', 'Downtown'], ['JP Saxe', '1/31/2024', 'The Showbox', 'Music', 'Downtown'], ['Los Lobos', '1/31/2024', 'The Triple Door', 'Music', 'Downtown'], ['BabyTron', '2/1/2024', 'The Showbox', 'Music', 'Downtown'], ['Catalyzing Change with Akuyea Karen Vargas', '2/1/2024', 'Bainbridge Island Museum of Art', 'Readings & Lectures', 'West'], ['Jamila Woods', '2/1/2024', 'Neumos', 'Music', 'Capitol Hill / Central District'], ['Jazz is Dead: Blue Note 85', '2/1/2024', 'The Neptune Theatre', 'Music', 'University District'], ['Michelle Cann', '2/1/2024', 'Meany Center for the Performing Arts', 'Music', 'University District'], ['Pakt', '2/1/2024', 'Funhouse', 'Music', 'Capitol Hill / Central District'], ['Erik Walters', '2/2/2024', 'Barboza', 'Music', 'Capitol Hill / Central District'], ['Memoir', '2/2/2024', 'Benaroya Hall', 'Music', 'Downtown'], ['Nora En Pure', '2/2/2024', 'Showbox SoDo', 'Music', 'Pioneer Square'], ['Poolside', '2/2/2024', 'The Showbox', 'Music', 'Downtown'], ['Tacoma Stars vs. Monterrey Flash', '2/2/2024', 'accesso ShoWare Center', 'Sports', 'South'], ['Jaha Koo: The History of Korean Western Theatre', '2/1/2024 through 2/3/2024', 'On The Boards', 'Theatre', 'Queen Anne / Seattle Center'], ['The Winds: Medley of Emotions', '2/2/2024 through 2/3/2024', 'Benaroya Hall', 'Music', 'Downtown'], ['All Will Suffer', '2/3/2024', 'Funhouse', 'Music', 'Capitol Hill / Central District'], ['Cold War Kids – 20 Years Tour', '2/3/2024', 'The Moore Theatre', 'Music', 'Downtown'], ['Mau P', '2/3/2024', 'The Showbox', 'Music', 'Downtown'], ['Randy Rainbow for President', '2/3/2024', 'The Paramount Theatre', 'Theatre', 'Downtown'], ['The Delta Bombers', '2/3/2024', 'El Corazon', 'Music', 'Downtown'], ['Seattle Chamber Music Winter Festival', '1/26/2024 through 2/4/2024', 'Benaroya Hall', 'Music', 'Downtown'], ['Beethoven Emperor Concerto', '2/1/2024 through 2/4/2024', 'Benaroya Hall', 'Music', 'Downtown'], ['Sergio Mendes', '2/1/2024 through 2/4/2024', \"Dimitriou's Jazz Alley\", 'Music', 'Downtown'], ['Daniel Tiger’s Neighborhood', '2/4/2024', 'The Paramount Theatre', 'Theatre', 'Downtown'], ['Lil Skies', '2/4/2024', 'The Showbox', 'Music', 'Downtown'], ['Criminal', '2/5/2024', 'The Moore Theatre', 'Theatre', 'Downtown'], ['Neck Deep', '2/5/2024', 'Showbox SoDo', 'Music', 'Pioneer Square'], ['Kazu Kibuishi with Donna Barba Higuera', '2/6/2024', 'Town Hall Seattle', 'Readings & Lectures', 'Downtown'], ['Night Lovell', '2/6/2024', 'The Showbox', 'Music', 'Downtown'], ['Soja', '2/6/2024', 'The Neptune Theatre', 'Music', 'University District'], ['Kenny Barron Trio', '2/6/2024 through 2/7/2024', \"Dimitriou's Jazz Alley\", 'Music', 'Downtown'], ['Tamara Payne: The Life and Legacy of Malcolm X', '2/7/2024', 'Town Hall Seattle', 'Readings & Lectures', 'Downtown'], ['The Kills', '2/7/2024', 'Showbox SoDo', 'Music', 'Pioneer Square'], ['An Evening with Tina Campt: Black Feminist Visual Culture', '2/8/2024', 'Town Hall Seattle', 'Readings & Lectures', 'Downtown'], ['Art and Transformation', '2/8/2024', 'Bainbridge Island Museum of Art', 'Readings & Lectures', 'West'], ['Eric Bellinger', '2/8/2024', 'The Showbox', 'Music', 'Downtown'], ['Futurebirds and Nude Party', '2/8/2024', 'The Neptune Theatre', 'Music', 'University District'], ['Ilana Glazer Live', '2/8/2024', 'The Moore Theatre', 'Theatre', 'Downtown'], ['Mister Blank', '2/8/2024', 'Nectar Lounge', 'Music', 'Fremont / Ballard'], ['The Thorn', '2/8/2024 through 2/9/2024', 'The Paramount Theatre', 'Theatre', 'Downtown'], ['Barry Can’t Swim', '2/9/2024', 'Neumos', 'Music', 'Capitol Hill / Central District'], ['Dark Star Orchestra', '2/9/2024', 'The Showbox', 'Music', 'Downtown'], ['Gov’t Mule', '2/9/2024', 'The Moore Theatre', 'Music', 'Downtown'], ['Mayer Hawthorne', '2/9/2024', 'The Neptune Theatre', 'Music', 'University District'], ['Moontricks', '2/9/2024', 'The Crocodile', 'Music', 'Downtown'], ['OBOE / OBOE', '2/9/2024', '415 Westlake', 'Music', 'Queen Anne / Seattle Center'], ['Seattle Boat Show', '2/2/2024 through 2/10/2024', 'Lumen Field', 'Festivals & Special Events', 'Pioneer Square'], ['Randall Goosby Plays Mozart', '2/8/2024 through 2/10/2024', 'Benaroya Hall', 'Music', 'Downtown'], ['Art by Design', '2/9/2024 through 2/10/2024', 'Seattle Design Center', 'Visual Arts & Galleries', 'Downtown'], ['Brazilian Carnaval 2024', '2/10/2024', 'The Crocodile', 'Music', 'Downtown'], ['Chase Rice', '2/10/2024', 'Showbox SoDo', 'Music', 'Pioneer Square'], ['Joe “Mr. D”  Dombrowski', '2/10/2024', 'The Moore Theatre', 'Theatre', 'Downtown'], ['JVNA', '2/10/2024', 'The Showbox', 'Music', 'Downtown'], ['The Temptations &  The Four Tops', '2/10/2024', 'The Paramount Theatre', 'Music', 'Downtown'], ['Quixote Nuevo', 'Now through 2/11/2024', 'Seattle Rep', 'Theatre', 'Queen Anne / Seattle Center'], ['Kent Stowell’s Swan Lake', '2/2/2024 through 2/11/2024', 'Marion Oliver McCaw Hall', 'Dance', 'Queen Anne / Seattle Center'], ['Blood Sweat  and Tears', '2/8/2024 through 2/11/2024', \"Dimitriou's Jazz Alley\", 'Music', 'Downtown'], ['Love at the Zoo', '2/10/2024 through 2/11/2024', 'Point Defiance Zoo and Aquarium', 'Festivals & Special Events', 'South'], ['Scott Bradlee’s Postmodern Jukebox', '2/11/2024', 'The Paramount Theatre', 'Music', 'Downtown'], ['Tourist and Amtrac', '2/11/2024', 'The Showbox', 'Music', 'Downtown'], ['Eliades Ochoa', '2/13/2024', 'The Moore Theatre', 'Music', 'Downtown'], ['K. Wayne Yang', '2/13/2024', 'Town Hall Seattle', 'Readings & Lectures', 'Downtown'], ['Maddie Zahm', '2/15/2024', 'The Neptune Theatre', 'Music', 'University District'], ['Cory Wong Winter 2024 Tour', '2/16/2024', 'The Paramount Theatre', 'Music', 'Downtown'], ['Circa:Humans 2.0', '2/15/2024 through 2/17/2024', 'Meany Center for the Performing Arts', 'Theatre', 'University District'], ['Jon Batiste', '2/17/2024', 'The Paramount Theatre', 'Music', 'Downtown'], ['TobyMac Hits Deep 2024', '2/17/2024', 'accesso ShoWare Center', 'Music', 'South'], ['A Case for the Existence of God', '2/2/2024 through 2/18/2024', 'ACT Theatre', 'Theatre', 'Downtown'], ['Northwest Flower & Garden Festival', '2/14/2024 through 2/18/2024', 'Seattle Convention Center', 'Festivals & Special Events', 'Downtown'], ['The Princess Bride in Concert with the Seattle Symphony', '2/14/2024 through 2/18/2024', 'Benaroya Hall', 'Music', 'Downtown'], ['Mindi Abair Wine and Jazz Tour 2024', '2/15/2024 through 2/18/2024', \"Dimitriou's Jazz Alley\", 'Music', 'Downtown'], ['Madonna', '2/17/2024 through 2/18/2024', 'Climate Pledge Arena', 'Music', 'Queen Anne / Seattle Center'], ['Meet the Author: Maggie Taft, The Chieftain and the Chair', '2/18/2024', 'National Nordic Museum', 'Museums', 'Fremont / Ballard'], ['Seattle Kraken vs. Detroit Red Wings', '2/19/2024', 'Climate Pledge Arena', 'Sports', 'Queen Anne / Seattle Center'], ['From Mozart to Matthews', '2/20/2024', 'Benaroya Hall', 'Music', 'Downtown'], ['Lukas Nelson', '2/20/2024', 'The Showbox', 'Music', 'Downtown'], ['Mahogany – smARTfilms: Black Luxury', '2/20/2024', 'Bainbridge Island Museum of Art', 'Film & Media Arts', 'West'], ['Wu Han, Philip Setzer & David Finckel', '2/20/2024', 'Meany Center for the Performing Arts', 'Music', 'University District'], ['The Cookers', '2/20/2024 through 2/21/2024', \"Dimitriou's Jazz Alley\", 'Music', 'Downtown'], ['Side-by-Side with Seattle Youth Symphony Orchestra', '2/21/2024', 'Benaroya Hall', 'Music', 'Downtown'], ['Seattle Kraken vs. Vancouver Canucks', '2/22/2024', 'Climate Pledge Arena', 'Sports', 'Queen Anne / Seattle Center'], ['Funky Friday with F2D', 'Now through 2/23/2024', 'Sea Monster Lounge', 'Music', 'Wallingford / Greenlake'], ['BLACKSTAR SYMPHONY: The Music of David Bowie', '2/23/2024', 'Benaroya Hall', 'Music', 'Downtown'], ['Opera Talk: The Making of X', '2/23/2024', 'Opera Center', 'Readings & Lectures', 'Queen Anne / Seattle Center'], ['Wreckno', '2/23/2024', 'The Showbox', 'Music', 'Downtown'], ['Kelly Akashi', 'Now through 2/24/2024', 'Henry Art Gallery', 'Museums', 'University District'], ['The Lower Depths', '2/6/2024 through 2/24/2024', 'Erickson Theatre', 'Theatre', 'Capitol Hill / Central District'], ['Dan Brown Wild Symphony', '2/24/2024', 'Benaroya Hall', 'Music', 'Downtown'], ['Pink Sweat$', '2/24/2024', 'The Showbox', 'Music', 'Downtown'], ['Seattle Kraken vs. Minnesota Wild', '2/24/2024', 'Climate Pledge Arena', 'Sports', 'Queen Anne / Seattle Center'], ['Small Island Big Song', '2/24/2024', 'Meany Center for the Performing Arts', 'Music', 'University District'], ['Born With Teeth', '2/1/2024 through 2/25/2024', 'ArtsWest Playhouse and Gallery', 'Theatre', 'West Seattle'], ['Once More, Just For You', '2/5/2024 through 2/25/2024', 'Seattle Public Theater', 'Theatre', 'Wallingford / Greenlake'], ['Wintergrass Music Festival', '2/22/2024 through 2/25/2024', 'Hyatt Regency Bellevue', 'Festivals & Special Events', 'Bellevue / Eastside'], ['Seattle Kraken vs. Boston Bruins', '2/26/2024', 'Climate Pledge Arena', 'Sports', 'Queen Anne / Seattle Center'], ['Hunt for Sleeping Giants | National Geographic Live', '2/25/2024 through 2/27/2024', 'Benaroya Hall', 'Readings & Lectures', 'Downtown'], ['Playboi Carti', '2/28/2024', 'Climate Pledge Arena', 'Music', 'Queen Anne / Seattle Center'], ['Winter Brilliance', 'Now through 2/29/2024', 'Chihuly Garden and Glass', 'Museums', 'Queen Anne / Seattle Center'], ['Seattle Museum Month', '2/1/2024 through 2/29/2024', 'Downtown Seattle', 'Museums', 'Downtown'], ['Seattle Kraken vs. Pittsburgh Penguins', '2/29/2024', 'Climate Pledge Arena', 'Sports', 'Queen Anne / Seattle Center'], ['The Human Family', '2/29/2024', 'LANGSTON Seattle', 'Music', 'Capitol Hill / Central District'], ['Fall Out Boy', '3/1/2024', 'Climate Pledge Arena', 'Readings & Lectures', 'Queen Anne / Seattle Center'], ['Tacoma Stars vs. Harrisburg Heat', '3/1/2024', 'accesso ShoWare Center', 'Sports', 'South'], ['Conrad Tao’s Playlist', '3/1/2024 through 3/2/2024', 'Benaroya Hall', 'Music', 'Downtown'], ['Seattle Kraken vs. Edmonton Oilers', '3/2/2024', 'Climate Pledge Arena', 'Sports', 'Queen Anne / Seattle Center'], ['Emerald City Comic Con', '2/29/2024 through 3/3/2024', 'Seattle Convention Center', 'Festivals & Special Events', 'Downtown'], ['Tacoma Stars vs. Harrisburg Heat', '3/3/2024', 'accesso ShoWare Center', 'Music', 'South'], ['Calidore Quartet & Abeo Quartet', '3/8/2024', '415 Westlake', 'Music', 'Queen Anne / Seattle Center'], ['Holding / Movement', '3/8/2024', 'Benaroya Hall', 'Music', 'Downtown'], ['Seattle Kraken vs. Winnipeg Jets', '3/8/2024', 'Climate Pledge Arena', 'Sports', 'Queen Anne / Seattle Center'], ['X:The Life and Times of Malcolm X', '2/24/2024 through 3/9/2024', 'Marion Oliver McCaw Hall', 'Music', 'Queen Anne / Seattle Center'], ['Bach St. John Passion', '3/7/2024 through 3/9/2024', 'Benaroya Hall', 'Music', 'Downtown'], ['Helene Grimaud', '3/9/2024', 'Meany Center for the Performing Arts', 'Music', 'University District'], ['Positive Fragmentation', 'Now through 3/10/2024', 'Bellevue Arts Museum', 'Museums', 'Bellevue / Eastside'], ['Antonio M. Gomez: LINEAJES', 'Now through 3/10/2024', 'Frye Art Museum', 'Museums', 'Capitol Hill / Central District'], ['Soren Solkaer: Sort Sol', 'Now through 3/10/2024', 'National Nordic Museum', 'Museums', 'Fremont / Ballard'], ['Luchadora!', '2/22/2024 through 3/10/2024', \"Seattle Children's Theatre\", 'Theatre', 'Queen Anne / Seattle Center'], ['Wild Cats Revealed | National Geographic Live', '3/10/2024 through 3/12/2024', 'Benaroya Hall', 'Readings & Lectures', 'Downtown'], ['Seattle Kraken vs. Vegas Golden Knights', '3/12/2024', 'Climate Pledge Arena', 'Sports', 'Queen Anne / Seattle Center'], ['Seattle Kraken vs. Washington Capitals', '3/14/2024', 'Climate Pledge Arena', 'Sports', 'Queen Anne / Seattle Center'], ['Mark Morris Dance Group: The Look of Love', '3/14/2024 through 3/16/2024', 'Meany Center for the Performing Arts', 'Music', 'University District'], ['Sibelius & Nielsen', '3/14/2024 through 3/16/2024', 'Benaroya Hall', 'Music', 'Downtown'], ['Tacoma Stars vs. Chihuahua Savage', '3/15/2024 through 3/16/2024', 'accesso ShoWare Center', 'Sports', 'South'], ['Seattle Kraken vs. Nashville Predators', '3/16/2024', 'Climate Pledge Arena', 'Sports', 'Queen Anne / Seattle Center'], ['Native Portraiture: Power and Perception', 'Now through 3/17/2024', 'Tacoma Art Museum', 'Museums', 'South'], ['Places to Call Home: Settlements in the West', 'Now through 3/17/2024', 'Tacoma Art Museum', 'Museums', 'South'], ['Nobody Lives Here', 'Now through 3/17/2024', 'Wing Luke Museum', 'Museums', 'International District'], ['Rootabaga Country', '3/8/2024 through 3/17/2024', 'Opera Center', 'Music', 'Queen Anne / Seattle Center'], ['Seattle Kraken vs. Buffalo Sabres', '3/18/2024', 'Climate Pledge Arena', 'Sports', 'Queen Anne / Seattle Center'], ['Tacoma Stars vs. Empire Strykers', '3/23/2024', 'accesso ShoWare Center', 'Sports', 'South'], ['Something’s Afoot', '3/1/2024 through 3/24/2024', 'The 5th Avenue Theatre', 'Theatre', 'Downtown'], ['One Thousand Pieces', '3/15/2024 through 3/24/2024', 'Marion Oliver McCaw Hall', 'Dance', 'Queen Anne / Seattle Center'], ['Simon Trpceski Plays Tchaikovsky', '3/21/2024 through 3/24/2024', 'Benaroya Hall', 'Music', 'Downtown'], ['Seattle Kraken vs. Montreal Canadiens', '3/24/2024', 'Climate Pledge Arena', 'Sports', 'Queen Anne / Seattle Center'], ['Seattle Kraken vs. Anaheim Ducks', '3/26/2024', 'Climate Pledge Arena', 'Sports', 'Queen Anne / Seattle Center'], ['Seattle Kraken vs. Anaheim Ducks', '3/28/2024', 'Climate Pledge Arena', 'Sports', 'Queen Anne / Seattle Center'], ['Tim McGraw', '3/29/2024', 'Climate Pledge Arena', 'Music', 'Queen Anne / Seattle Center'], ['Harold and the Purple Crayon', '3/23/2024 through 3/30/2024', 'Marion Oliver McCaw Hall', 'Dance', 'Queen Anne / Seattle Center'], ['Seattle Kraken vs. Dallas Stars', '3/30/2024', 'Climate Pledge Arena', 'Sports', 'Queen Anne / Seattle Center'], ['Illuminate: Glass Art for Early Learners', 'Now through 3/31/2024', 'Museum of Glass', 'Museums', 'South'], ['Al Young’s 1970 Dodge Challenger Drag Racer', 'Now through 3/31/2024', 'Museum of History & Industry', 'Museums', 'Queen Anne / Seattle Center'], ['Sanctuary City', '3/1/2024 through 3/31/2024', 'Seattle Rep', 'Theatre', 'Queen Anne / Seattle Center'], ['Stew', '3/15/2024 through 3/31/2024', 'ACT Theatre', 'Theatre', 'Downtown'], ['Luis Miguel', '4/4/2024', 'Climate Pledge Arena', 'Music', 'Queen Anne / Seattle Center'], ['Taylor Raven and Duke Kim in Recital', '4/4/2024', 'Opera Center', 'Music', 'Queen Anne / Seattle Center'], ['Copland Appalachian Spring', '4/4/2024 through 4/6/2024', 'Benaroya Hall', 'Music', 'Downtown'], ['La Vaughn Belle: A History of Unruly Returns', 'Now through 4/7/2024', 'National Nordic Museum', 'Museums', 'Fremont / Ballard'], ['Beetlejuice', '4/2/2024 through 4/7/2024', 'The Paramount Theatre', 'Theatre', 'Downtown'], ['Seattle Kraken vs. Arizona Coyotes', '4/9/2024', 'Climate Pledge Arena', 'Sports', 'Queen Anne / Seattle Center'], ['Seattle Kraken vs. San Jose Sharks', '4/11/2024', 'Climate Pledge Arena', 'Sports', 'Queen Anne / Seattle Center'], ['The Percussion: Sounds from Home', '4/12/2024 through 4/13/2024', 'Benaroya Hall', 'Music', 'Downtown'], ['Honoring 50 Years of Papunya Tula Painting', 'Now through 4/14/2024', 'Seattle Art Museum', 'Museums', 'Downtown'], ['The Moors', '3/22/2024 through 4/14/2024', 'Seattle Public Theater', 'Theatre', 'Wallingford / Greenlake'], ['Mahler Symphony No. 3', '4/11/2024 through 4/14/2024', 'Benaroya Hall', 'Music', 'Downtown'], ['Best of the Northwest Spring Show', '4/13/2024 through 4/14/2024', 'Magnuson Park', 'Festivals & Special Events', 'University District'], ['An Evening with Jinjoo Cho', '4/19/2024', '415 Westlake', 'Music', 'Queen Anne / Seattle Center'], ['Dvorak Symphony No. 6', '4/18/2024 through 4/20/2024', 'Benaroya Hall', 'Music', 'Downtown'], ['The Seasons’ Canon', '4/12/2024 through 4/21/2024', 'Marion Oliver McCaw Hall', 'Dance', 'Queen Anne / Seattle Center'], ['DRUM TAO 30th Anniversary', '4/22/2024', 'Benaroya Hall', 'Music', 'Downtown'], ['Disney’s Aladdin', '4/24/2024 through 4/28/2024', 'The Paramount Theatre', 'Theatre', 'Downtown'], ['Antarctic Symphony', '4/25/2024 through 4/28/2024', 'Benaroya Hall', 'Music', 'Downtown'], ['Shine On Seattle', '1/30/2024 through 4/29/2024', 'Pioneer Square', 'Festivals & Special Events', 'Pioneer Square'], ['Noah Geller’s Playlist', '5/3/2024 through 5/4/2024', 'Benaroya Hall', 'Music', 'Downtown'], ['Broadway Spectacular', '5/4/2024', 'Cornish Playhouse at Seattle Center', 'Music', 'Queen Anne / Seattle Center'], ['Jessica Jackson Hutchins: Wrecked and Righteous', '1/27/2024 through 5/5/2024', 'Frye Art Museum', 'Museums', 'Capitol Hill / Central District'], ['The Lion Tells His Tale', '5/1/2024 through 5/5/2024', 'Broadway Performance Hall', 'Theatre', 'Capitol Hill / Central District'], ['Guma’ Gela:  Part Land, Part Sea, All Ancestry', 'Now through 5/12/2024', 'Wing Luke Museum', 'Museums', 'International District'], ['Fat Ham', '4/12/2024 through 5/12/2024', 'Seattle Rep', 'Theatre', 'Queen Anne / Seattle Center'], ['A Tale of Peter Rabbit', '4/25/2024 through 5/12/2024', \"Seattle Children's Theatre\", 'Theatre', 'Queen Anne / Seattle Center'], ['The Lehman Trilogy', '4/26/2024 through 5/12/2024', 'ACT Theatre', 'Theatre', 'Downtown'], ['The Untold Story of Sharks | National Geographic Live', '5/12/2024 through 5/14/2024', 'Benaroya Hall', 'Readings & Lectures', 'Downtown'], ['Mother', '5/17/2024', '415 Westlake', 'Music', 'Queen Anne / Seattle Center'], ['Barber Violin Concerto', '5/16/2024 through 5/18/2024', 'Benaroya Hall', 'Music', 'Downtown'], ['The Barber of Seville', '5/4/2024 through 5/24/2024', 'Marion Oliver McCaw Hall', 'Music', 'Queen Anne / Seattle Center'], ['Unriveled', '5/10/2024 through 6/2/2024', 'Seattle Public Theater', 'Theatre', 'Wallingford / Greenlake'], ['George Balenchine’s Coppelia', '5/31/2024 through 6/9/2024', 'Marion Oliver McCaw Hall', 'Dance', 'Queen Anne / Seattle Center'], ['Jan Lisiecki Plays Prokofiev', '6/6/2024 through 6/9/2024', 'Benaroya Hall', 'Music', 'Downtown'], ['Beethoven Symphony No. 5', '6/13/2024 through 6/15/2024', 'Benaroya Hall', 'Music', 'Downtown'], ['Elizabeth Malaska: All Be Your Mirror', 'Now through 6/16/2024', 'Seattle Art Museum', 'Museums', 'Downtown'], ['Joshua Bell Plays Elements Concerto', '6/20/2024 through 6/22/2024', 'Benaroya Hall', 'Music', 'Downtown'], ['Together Again, Again!', '5/31/2024 through 6/23/2024', 'Seattle Rep', 'Theatre', 'Queen Anne / Seattle Center'], ['Lip Sync for Our Rights', '6/22/2024 through 6/23/2024', 'Marion Oliver McCaw Hall', 'Music', 'Queen Anne / Seattle Center'], ['Company', '6/23/2024 through 6/28/2024', 'The Paramount Theatre', 'Music', 'Downtown'], ['2024 University of Washington MFA + MDes Thesis Exhibition', '5/24/2024 through 6/30/2024', 'Henry Art Gallery', 'Museums', 'University District'], ['Spring Awakening', '6/7/2024 through 6/30/2024', 'The 5th Avenue Theatre', 'Theatre', 'Downtown'], ['Girl From The North Country', '6/25/2024 through 6/30/2024', 'The Paramount Theatre', 'Music', 'Downtown'], ['Nordic Utopia: African Americans in the 20th Century', '3/22/2024 through 7/21/2024', 'National Nordic Museum', 'Museums', 'Fremont / Ballard'], ['Clue', '7/9/2024 through 7/21/2024', 'The 5th Avenue Theatre', 'Theatre', 'Downtown'], ['Be Water, My Friend: The Teachings Of Bruce Lee', 'Now through 7/28/2024', 'Wing Luke Museum', 'Museums', 'International District'], ['Olivia Rodrigo', '8/6/2024 through 8/7/2024', 'Climate Pledge Arena', 'Music', 'Queen Anne / Seattle Center'], ['Hidden Worlds: The Films of LAIKA', 'Now through 8/31/2024', 'MoPOP Museum of Pop Culture', 'Museums', 'Queen Anne / Seattle Center'], ['Sound Check! The Music We Make', 'Now through 9/14/2024', 'Wing Luke Museum', 'Museums', 'International District'], ['Raul de Nieves', 'Now through 9/30/2024', 'Henry Art Gallery', 'Museums', 'University District'], ['Frye Salon', 'Now through 10/27/2024', 'Frye Art Museum', 'Museums', 'Capitol Hill / Central District'], ['On Native Land: Landscapes from the Haub Family Collection', 'Now through 11/17/2024', 'Tacoma Art Museum', 'Museums', 'South'], ['Washi Transformed New Expressions in Japanese Paper', '2/2/2024 through 4/26/2026', 'Bellevue Arts Museum', 'Museums', 'Bellevue / Eastside'], ['Explore The Market', 'Ongoing', 'Pike Place Market', 'Festivals & Special Events', 'Downtown'], ['Olympic Sculpture Park', 'Ongoing', 'Olympic Sculpture Park', 'Visual Arts & Galleries', 'Downtown'], ['Infinite Worlds of Science Fiction', 'Ongoing', 'MoPOP Museum of Pop Culture', 'Museums', 'Queen Anne / Seattle Center'], ['Wild Blue Angel: Hendrix Abroad, 1966-70', 'Ongoing', 'MoPOP Museum of Pop Culture', 'Museums', 'Queen Anne / Seattle Center'], ['John Grade: Middle Fork', 'Ongoing', 'Seattle Art Museum', 'Museums', 'Downtown'], ['Scared to Death: The Thrill of Horror Film', 'Ongoing', 'MoPOP Museum of Pop Culture', 'Museums', 'Queen Anne / Seattle Center'], ['Nirvana: Taking Punk To the Masses', 'Ongoing', 'MoPOP Museum of Pop Culture', 'Museums', 'Queen Anne / Seattle Center'], ['Vietnam Divided: War Above Southeast Asia', 'Ongoing', 'The Museum of Flight', 'Museums', 'South Seattle'], ['Science Fiction and Fantasy Hall of Fame', 'Ongoing', 'MoPOP Museum of Pop Culture', 'Museums', 'Queen Anne / Seattle Center'], ['Cambodian Cultural Museum and Killing Fields Memorial', 'Ongoing', 'Wing Luke Museum', 'Museums', 'International District'], ['Honoring Our Journey', 'Ongoing', 'Wing Luke Museum', 'Museums', 'International District'], ['Spotlight on Dale Chihuly: Works from Museum of Glass Permanent Collection', 'Ongoing', 'Museum of Glass', 'Museums', 'South'], ['Great Hall of Washington History', 'Ongoing', 'Washington State History Museum', 'Museums', 'South'], ['Humboldt Penguin Exhibit', 'Ongoing', 'Woodland Park Zoo', 'Museums', 'Wallingford / Greenlake'], ['Giant Pacific Octopus', 'Ongoing', 'Seattle Aquarium', 'Museums', 'Downtown'], ['Meet our Marine Mammals', 'Ongoing', 'Seattle Aquarium', 'Museums', 'Downtown'], ['Window on Washington Waters', 'Ongoing', 'Seattle Aquarium', 'Museums', 'Downtown'], ['Guitar Gallery', 'Ongoing', 'MoPOP Museum of Pop Culture', 'Museums', 'Queen Anne / Seattle Center'], ['Nordic Journeys', 'Ongoing', 'National Nordic Museum', 'Museums', 'Fremont / Ballard'], ['Baird’s beaked whale', 'Ongoing', 'Burke Museum', 'Museums', 'University District'], ['Amazing Life', 'Ongoing', 'Burke Museum', 'Museums', 'University District'], ['Culture is Living', 'Ongoing', 'Burke Museum', 'Museums', 'University District'], ['Fossils Uncovered', 'Ongoing', 'Burke Museum', 'Museums', 'University District'], ['Northwest Native Art', 'Ongoing', 'Burke Museum', 'Museums', 'University District'], ['Our Material World', 'Ongoing', 'Burke Museum', 'Museums', 'University District'], ['Apollo', 'Ongoing', 'The Museum of Flight', 'Museums', 'South Seattle'], ['Art and Life Along the Northwest Coast', 'Ongoing', 'Seattle Art Museum', 'Museums', 'Downtown'], ['Washington: My Home', 'Ongoing', 'Washington State History Museum', 'Museums', 'South'], ['Sensory-Friendly Programs', 'Ongoing', 'MoPOP Museum of Pop Culture', 'Festivals & Special Events', 'Queen Anne / Seattle Center'], ['Dale Chihuly at Tacoma Art Museum', 'Ongoing', 'Tacoma Art Museum', 'Museums', 'South'], ['Be/longing: Contemporary Asian Art', 'Ongoing', 'Seattle Asian Art Museum', 'Museums', 'Capitol Hill / Central District'], ['Porcelain Room', 'Ongoing', 'Seattle Art Museum', 'Museums', 'Downtown'], ['Life on the Edge', 'Ongoing', 'Seattle Aquarium', 'Museums', 'Downtown'], ['Tropical Pacific', 'Ongoing', 'Seattle Aquarium', 'Museums', 'Downtown'], ['Underwater Dome', 'Ongoing', 'Seattle Aquarium', 'Museums', 'Downtown'], ['Meet the Animals', 'Ongoing', 'Woodland Park Zoo', 'Museums', 'Wallingford / Greenlake'], ['Chihuly Garden and Glass', 'Ongoing', 'Chihuly Garden and Glass', 'Museums', 'Queen Anne / Seattle Center'], ['Discover Ancient Coast Salish Culture', 'Ongoing', 'Hibulb Cultural Center', 'Museums', 'North'], ['Savor Seattle Signature Tour: Pike Place Market', 'Ongoing', 'Pike Place Market', 'Tours & Attractions', 'Downtown'], ['Untold Stories: World War II at 75', 'Ongoing', 'The Museum of Flight', 'Museums', 'South Seattle'], ['Bezos Center for Innovation', 'Ongoing', 'Museum of History & Industry', 'Museums', 'Queen Anne / Seattle Center'], ['Maritime Seattle', 'Ongoing', 'Museum of History & Industry', 'Museums', 'Queen Anne / Seattle Center'], ['True Northwest: The Seattle Journey', 'Ongoing', 'Museum of History & Industry', 'Museums', 'Queen Anne / Seattle Center'], ['Metaphor into Form: Art in the Era of the Pilchuck Glass School', 'Ongoing', 'Tacoma Art Museum', 'Museums', 'South'], ['Winter in the West', 'Ongoing', 'Tacoma Art Museum', 'Museums', 'South'], ['Ballard Farmers Market – Sunday', 'Ongoing', 'Ballard Farmers Market', 'Festivals & Special Events', 'Fremont / Ballard'], ['Capitol Hill Farmers Market – Sunday', 'Ongoing', 'Capitol Hill Farmers Market', 'Festivals & Special Events', 'Capitol Hill / Central District'], ['University District Farmers Market', 'Ongoing', 'University District Farmers Market', 'Festivals & Special Events', 'University District'], ['Fremont Sunday Market', 'Ongoing', 'Fremont Farmers Market', 'Festivals & Special Events', 'Fremont / Ballard'], ['Chihuly Garden and Glass Gallery Talks & Tours', 'Ongoing', 'Chihuly Garden and Glass', 'Tours & Attractions', 'Queen Anne / Seattle Center'], ['Boundless: Stories of Asian Art', 'Ongoing', 'Seattle Asian Art Museum', 'Museums', 'Capitol Hill / Central District'], ['Kenzan Tsutakawa-Chinn: Gather', 'Ongoing', 'Seattle Asian Art Museum', 'Museums', 'Capitol Hill / Central District'], ['Art Walk Edmonds | Every Third Thursday', 'Ongoing', 'Cascadia Art Museum', 'Visual Arts & Galleries', 'North'], ['Rise Up: Stonewall and the LGBTQ Rights Movement', 'Ongoing', 'MoPOP Museum of Pop Culture', 'Museums', 'Queen Anne / Seattle Center'], ['Show Me Seattle Tours', 'Ongoing', 'Seattle, WA', 'Tours & Attractions', 'Downtown'], ['LeMay – America’s Car Museum', 'Ongoing', \"LeMay - America's Car Museum\", 'Museums', 'South'], ['History Link Tours', 'Ongoing', 'Seattle, WA', 'Tours & Attractions', 'Downtown'], ['West Seattle Farmers Market – Sundays', 'Ongoing', 'West Seattle Farmers Market', 'Festivals & Special Events', 'West Seattle'], ['REMEMBRANCE: The Legacy of Executive Order 9066 in Washington State', 'Ongoing', 'Washington State History Museum', 'Museums', 'South'], ['Pioneer Square First Thursday Art Walk', 'Ongoing', 'Pioneer Square', 'Visual Arts & Galleries', 'Pioneer Square'], ['Deities and Demons: Supernatural in Japanese Art', 'Ongoing', 'Seattle Art Museum', 'Museums', 'Downtown'], ['American Art: The Stories We Carry', 'Ongoing', 'Seattle Art Museum', 'Museums', 'Downtown'], ['Pacific Species', 'Ongoing', 'Seattle Art Museum', 'Museums', 'Downtown'], ['Reverberations: Contemporary Art and Modern Classics', 'Ongoing', 'Seattle Art Museum', 'Museums', 'Downtown'], ['75 Years of Porsche', 'Ongoing', \"LeMay - America's Car Museum\", 'Museums', 'South'], ['Manazma Sheen', 'Ongoing', 'Sea Monster Lounge', 'Music', 'Wallingford / Greenlake']]\n"
     ]
    }
   ],
   "source": [
    "all_event_details = []\n",
    "for event_url in all_events:\n",
    "    event_details = extract_event_details(event_url)\n",
    "    \n",
    "    if event_details:\n",
    "        all_event_details.append(event_details)\n",
    "print(all_event_details)"
   ]
  },
  {
   "cell_type": "code",
   "execution_count": 9,
   "metadata": {},
   "outputs": [
    {
     "name": "stdout",
     "output_type": "stream",
     "text": [
      "Event details have been stored in events.csv\n"
     ]
    }
   ],
   "source": [
    "import csv\n",
    "csv_header = ['Name', 'Date + Time', 'Location', 'Type', 'Region']\n",
    "with open('events.csv', 'w', newline='', encoding='utf-8') as csvfile:\n",
    "    csv_writer = csv.writer(csvfile)\n",
    "    \n",
    "    # Write header\n",
    "    csv_writer.writerow(csv_header)\n",
    "    \n",
    "    # Write event details\n",
    "    csv_writer.writerows(all_event_details)\n",
    "\n",
    "print(\"Event details have been stored in events.csv\")"
   ]
  },
  {
   "cell_type": "markdown",
   "metadata": {},
   "source": [
    "# Weather"
   ]
  },
  {
   "cell_type": "code",
   "execution_count": 7,
   "metadata": {},
   "outputs": [
    {
     "data": {
      "text/plain": [
       "[{'place_id': 312844859,\n",
       "  'licence': 'Data © OpenStreetMap contributors, ODbL 1.0. http://osm.org/copyright',\n",
       "  'osm_type': 'node',\n",
       "  'osm_id': 150973716,\n",
       "  'lat': '47.6594631',\n",
       "  'lon': '-122.3343417',\n",
       "  'category': 'place',\n",
       "  'type': 'suburb',\n",
       "  'place_rank': 19,\n",
       "  'importance': 0.3131791431958073,\n",
       "  'addresstype': 'suburb',\n",
       "  'name': 'Wallingford',\n",
       "  'display_name': 'Wallingford, Seattle, King County, Washington, 98015, United States',\n",
       "  'boundingbox': ['47.6394631', '47.6794631', '-122.3543417', '-122.3143417']}]"
      ]
     },
     "execution_count": 7,
     "metadata": {},
     "output_type": "execute_result"
    }
   ],
   "source": [
    "# location name to lat lon\n",
    "base_url = \"https://nominatim.openstreetmap.org/search.php\"\n",
    "# Option 2: use dictionary to represent query params\n",
    "#           use requests.get(url, params=query_params) to attach the query param dict\n",
    "query_params = {\n",
    "    \"q\": \"Wallingford, Seattle\",\n",
    "    \"format\": \"jsonv2\"\n",
    "}\n",
    "\n",
    "res = requests.get(base_url, params=query_params)\n",
    "res.json()"
   ]
  },
  {
   "cell_type": "code",
   "execution_count": 6,
   "metadata": {},
   "outputs": [],
   "source": [
    "base_url = \"https://nominatim.openstreetmap.org/search.php\"\n",
    "\n",
    "# Function to get latitude and longitude for a given location and region\n",
    "def get_lat_long(location, region):\n",
    "    query_params = {\n",
    "        \"q\": f\"{location}, {region}\",\n",
    "        \"format\": \"jsonv2\"\n",
    "    }\n",
    "    res = requests.get(base_url, params=query_params)\n",
    "    data = res.json()\n",
    "\n",
    "    if not data:\n",
    "        query_params_location = {\n",
    "            \"q\": f\"{location}\",\n",
    "            \"format\": \"jsonv2\"\n",
    "        }\n",
    "        res_location = requests.get(base_url, params=query_params_location)\n",
    "        data_location = res_location.json()\n",
    "\n",
    "        if data_location:\n",
    "            return data_location[0][\"lat\"], data_location[0][\"lon\"]\n",
    "\n",
    "        query_params_region = {\n",
    "            \"q\": f\"{region}\",\n",
    "            \"format\": \"jsonv2\"\n",
    "        }\n",
    "        res_region = requests.get(base_url, params=query_params_region)\n",
    "        data_region = res_region.json()\n",
    "\n",
    "        if data_region:\n",
    "            return data_region[0][\"lat\"], data_region[0][\"lon\"]\n",
    "\n",
    "        return None, None\n",
    "\n",
    "    return data[0][\"lat\"], data[0][\"lon\"]\n",
    "\n",
    "# Read events from CSV\n",
    "with open('events.csv', 'r', encoding='utf-8') as file:\n",
    "    reader = csv.reader(file)\n",
    "    header = next(reader)  # Get header\n",
    "    header += ['Latitude', 'Longitude']  # Add Latitude and Longitude to header\n",
    "\n",
    "    rows = []\n",
    "    for row in reader:\n",
    "        name, date_time, location, event_type, region = row\n",
    "        latitude, longitude = get_lat_long(location, region)\n",
    "        rows.append(row + [latitude, longitude])\n",
    "        time.sleep(1)\n",
    "\n",
    "# Write to a new CSV file\n",
    "with open('events_with_coordinates.csv', 'w', newline='') as file:\n",
    "    writer = csv.writer(file)\n",
    "    writer.writerow(header)\n",
    "    writer.writerows(rows)"
   ]
  },
  {
   "cell_type": "code",
   "execution_count": 3,
   "metadata": {},
   "outputs": [
    {
     "data": {
      "text/plain": [
       "<Response [200]>"
      ]
     },
     "execution_count": 3,
     "metadata": {},
     "output_type": "execute_result"
    }
   ],
   "source": [
    "url = \"https://api.weather.gov/points/39.7456,-97.0892\"\n",
    "res = requests.get(url)\n",
    "res"
   ]
  },
  {
   "cell_type": "code",
   "execution_count": null,
   "metadata": {},
   "outputs": [],
   "source": [
    "import csv\n",
    "import requests\n",
    "\n",
    "# Function to get weather forecast for a given latitude and longitude\n",
    "def get_weather_forecast(latitude, longitude):\n",
    "    url = f\"https://api.weather.gov/points/{latitude},{longitude}\"\n",
    "    response = requests.get(url)\n",
    "    \n",
    "    if response.status_code == 200:\n",
    "        data = response.json()\n",
    "        forecast_url = data['properties']['forecast']\n",
    "        \n",
    "        # Fetch the forecast data\n",
    "        forecast_response = requests.get(forecast_url)\n",
    "        if forecast_response.status_code == 200:\n",
    "            forecast_data = forecast_response.json()\n",
    "            return forecast_data['properties']['periods'][0]['detailedForecast']\n",
    "    \n",
    "    return None\n",
    "\n",
    "# Read events from CSV\n",
    "events = []\n",
    "with open('events_with_coordinates.csv', 'r') as csvfile:\n",
    "    reader = csv.DictReader(csvfile)\n",
    "    for row in reader:\n",
    "        event = {\n",
    "            'Name': row['Name'],\n",
    "            'Date': row['Date + Time'],\n",
    "            'Location': row['Location'],\n",
    "            'Type': row['Type'],\n",
    "            'Region': row['Region'],\n",
    "            'Latitude': float(row['Latitude']),\n",
    "            'Longitude': float(row['Longitude'])\n",
    "        }\n",
    "        events.append(event)\n",
    "\n",
    "# Fetch weather forecast for each event\n",
    "for event in events:\n",
    "    latitude = event['Latitude']\n",
    "    longitude = event['Longitude']\n",
    "    forecast = get_weather_forecast(latitude, longitude)\n",
    "    \n",
    "    if forecast:\n",
    "        event['Forecast'] = forecast\n",
    "    else:\n",
    "        event['Forecast'] = 'Forecast not available'\n",
    "\n",
    "# Write combined information to a new CSV file\n",
    "fields = ['Name', 'Date', 'Location', 'Type', 'Region', 'Latitude', 'Longitude', 'Forecast']\n",
    "with open('events_with_forecast.csv', 'w', newline='') as csvfile:\n",
    "    writer = csv.DictWriter(csvfile, fieldnames=fields)\n",
    "    \n",
    "    # Write header\n",
    "    writer.writeheader()\n",
    "    \n",
    "    # Write event details and forecast\n",
    "    for event in events:\n",
    "        writer.writerow(event)\n",
    "\n",
    "print(\"Process completed. Check 'events_with_forecast.csv' for the combined information.\")"
   ]
  }
 ],
 "metadata": {
  "kernelspec": {
   "display_name": "Python 3",
   "language": "python",
   "name": "python3"
  },
  "language_info": {
   "codemirror_mode": {
    "name": "ipython",
    "version": 3
   },
   "file_extension": ".py",
   "mimetype": "text/x-python",
   "name": "python",
   "nbconvert_exporter": "python",
   "pygments_lexer": "ipython3",
   "version": "3.12.0"
  }
 },
 "nbformat": 4,
 "nbformat_minor": 2
}
